{
  "nbformat": 4,
  "nbformat_minor": 0,
  "metadata": {
    "colab": {
      "name": "Untitled2.ipynb",
      "provenance": []
    },
    "kernelspec": {
      "name": "python3",
      "display_name": "Python 3"
    },
    "language_info": {
      "name": "python"
    }
  },
  "cells": [
    {
      "cell_type": "markdown",
      "source": [
        "## Ejercicio 1\n",
        "Escribir una función que muestre por pantalla el saludo ¡Hola amiga(o)! cada vez que se la invoque."
      ],
      "metadata": {
        "id": "YWx64NiMIfdZ"
      }
    },
    {
      "cell_type": "code",
      "source": [
        "# Escribe aqui la función"
      ],
      "metadata": {
        "id": "3nkL6teLIvdl"
      },
      "execution_count": null,
      "outputs": []
    },
    {
      "cell_type": "markdown",
      "source": [
        "## Ejercicio 2\n",
        "Escribir una función a la que se le pase una cadena nombre y muestre por pantalla el saludo ¡hola nombre!."
      ],
      "metadata": {
        "id": "Sx8CECVbI1oD"
      }
    },
    {
      "cell_type": "code",
      "source": [
        "# Escribe aqui la función"
      ],
      "metadata": {
        "id": "ELoyrQj-JOyq"
      },
      "execution_count": null,
      "outputs": []
    },
    {
      "cell_type": "markdown",
      "source": [
        "## Ejercicio 3\n",
        "Escribir una función que calcule el total de una factura tras aplicarle el IVA. La función debe recibir la cantidad sin IVA y el porcentaje de IVA a aplicar, y devolver el total de la factura. Si se invoca la función sin pasarle el porcentaje de IVA, deberá aplicar un 16%."
      ],
      "metadata": {
        "id": "Lm7Qo1eqJRGX"
      }
    },
    {
      "cell_type": "code",
      "source": [
        "# Escribe aqui la función"
      ],
      "metadata": {
        "id": "-5uvJCB5KHSm"
      },
      "execution_count": null,
      "outputs": []{"nbformat":4,"nbformat_minor":0,"metadata":{"colab":{"name":"ejercicio6.ipynb","provenance":[{"file_id":"https://github.com/MaribelZarate/Python/blob/main/EJERCICIOS/EJERCICIO6.ipynb","timestamp":1656430527348}],"collapsed_sections":[]},"kernelspec":{"name":"python3","display_name":"Python 3"},"language_info":{"name":"python"}},"cells":[{"cell_type":"markdown","source":["## Ejercicio 1\n","Escribir una función que muestre por pantalla el saludo ¡Hola amiga(o)! cada vez que se la invoque."],"metadata":{"id":"YWx64NiMIfdZ"}},{"cell_type":"code","source":["# Escribe aqui la función"],"metadata":{"id":"3nkL6teLIvdl"},"execution_count":null,"outputs":[]},{"cell_type":"code","source":["def saludo():\n","  print('Hola Amigo')\n","  return"],"metadata":{"id":"8Fcqc0iT-CQy"},"execution_count":null,"outputs":[]},{"cell_type":"code","source":["saludo()"],"metadata":{"colab":{"base_uri":"https://localhost:8080/"},"id":"vcoflGA8-zsK","executionInfo":{"status":"ok","timestamp":1656431086935,"user_tz":300,"elapsed":507,"user":{"displayName":"Maribel Zarate","userId":"18026252702458459747"}},"outputId":"9cfabfe2-2d6b-4b75-c686-317ed8ab6f1e"},"execution_count":null,"outputs":[{"output_type":"stream","name":"stdout","text":["Hola Amigo\n"]}]},{"cell_type":"markdown","source":["## Ejercicio 2\n","Escribir una función a la que se le pase una cadena nombre y muestre por pantalla el saludo ¡hola nombre!."],"metadata":{"id":"Sx8CECVbI1oD"}},{"cell_type":"code","source":["# Escribe aqui la función"],"metadata":{"id":"ELoyrQj-JOyq"},"execution_count":null,"outputs":[]},{"cell_type":"code","source":["def hola(maribel):\n","  print('hola maribel')\n","  return"],"metadata":{"id":"AJHXjVSU_XgC"},"execution_count":null,"outputs":[]},{"cell_type":"code","source":["hola('maribel')"],"metadata":{"colab":{"base_uri":"https://localhost:8080/"},"id":"_W9uUVnB_6aE","executionInfo":{"status":"ok","timestamp":1656431414647,"user_tz":300,"elapsed":132,"user":{"displayName":"Maribel Zarate","userId":"18026252702458459747"}},"outputId":"2279dc64-83d3-480d-8ec9-b6f2fa41da3e"},"execution_count":null,"outputs":[{"output_type":"stream","name":"stdout","text":["hola maribel\n"]}]},{"cell_type":"markdown","source":["## Ejercicio 3\n","Escribir una función que calcule el total de una factura tras aplicarle el IVA. La función debe recibir la cantidad sin IVA y el porcentaje de IVA a aplicar, y devolver el total de la factura. Si se invoca la función sin pasarle el porcentaje de IVA, deberá aplicar un 16%."],"metadata":{"id":"Lm7Qo1eqJRGX"}},{"cell_type":"code","source":["# Escribe aqui la función"],"metadata":{"id":"-5uvJCB5KHSm"},"execution_count":null,"outputs":[]},{"cell_type":"code","source":["def facturas(monto , IVA=16):\n","  return monto + monto * IVA/100\n","print(facturas(500 , 25)) \n","\n","\n"],"metadata":{"colab":{"base_uri":"https://localhost:8080/"},"id":"KQkeWjIUA0-b","executionInfo":{"status":"ok","timestamp":1656431782870,"user_tz":300,"elapsed":129,"user":{"displayName":"Maribel Zarate","userId":"18026252702458459747"}},"outputId":"0416c6e0-b61e-4061-9f10-ed520381d35f"},"execution_count":null,"outputs":[{"output_type":"stream","name":"stdout","text":["625.0\n"]}]},{"cell_type":"markdown","source":["## Ejercicio 4: Trabajar con argumentos en funciones\n","Los argumentos requeridos en las funciones se utilizan cuando las funciones necesitan que esos argumentos funcionen correctamente.\n","\n","Comienza por crear una función que necesite tres lecturas de calificaciones y devuelva un informe:"],"metadata":{"id":"KKiK1kZzVpm0"}},{"cell_type":"code","source":["# Función para leer 3 calificaciones y muestre el promedio"],"metadata":{"id":"wrLfV98GVyyJ"},"execution_count":null,"outputs":[]},{"cell_type":"code","source":["def Reporte(cali1, cali2, cali3):\n","  promerdio=(cali1 + cali2 + cali3) / 3\n","  return promerdio\n","  "],"metadata":{"id":"Qok4IsOqzTHF","executionInfo":{"status":"ok","timestamp":1656463941691,"user_tz":300,"elapsed":210,"user":{"displayName":"Maribel Zarate","userId":"18026252702458459747"}}},"execution_count":30,"outputs":[]},{"cell_type":"markdown","source":["Ahora que hemos definido la función de informes, vamos a comprobarlo. Las calificaciones serán 8,7,10"],"metadata":{"id":"pBtVyatLV3CU"}},{"cell_type":"code","source":["# Llamamos a la función que genera el reporte print(funcion(cal1, cal2, cal3))\n"],"metadata":{"id":"jrnr_SP3WOB1"},"execution_count":null,"outputs":[]},{"cell_type":"code","source":["print(Reporte(8,7,10))\n"],"metadata":{"colab":{"base_uri":"https://localhost:8080/"},"id":"1bluAvmr4p3x","executionInfo":{"status":"ok","timestamp":1656463944727,"user_tz":300,"elapsed":173,"user":{"displayName":"Maribel Zarate","userId":"18026252702458459747"}},"outputId":"472b2ef8-a7fe-4b39-ca13-93686e8bdc3b"},"execution_count":31,"outputs":[{"output_type":"stream","name":"stdout","text":["8.333333333333334\n"]}]},{"cell_type":"markdown","source":["En lugar de simplemente crear el informe, la función también está calculando el promedio. Mejora la legibilidad extrayendo el cálculo promedio de la función en una nueva función para que el promedio se pueda hacer de forma independiente:"],"metadata":{"id":"uvxEfXjBWe0g"}},{"cell_type":"code","source":["# Función promedio "],"metadata":{"id":"paiWvAT6WlcH"},"execution_count":null,"outputs":[]},{"cell_type":"code","source":["def promedio (values):\n","  total=sum(values)\n","  numero_de_items=len(values)\n","  return total/numero_de_items\n","\n","  "],"metadata":{"id":"vm3fHNR87CRN","executionInfo":{"status":"ok","timestamp":1656465131636,"user_tz":300,"elapsed":176,"user":{"displayName":"Maribel Zarate","userId":"18026252702458459747"}}},"execution_count":63,"outputs":[]},{"cell_type":"code","source":["promedio([8,7,10])"],"metadata":{"colab":{"base_uri":"https://localhost:8080/"},"id":"r73ee9v27pAE","executionInfo":{"status":"ok","timestamp":1656465160563,"user_tz":300,"elapsed":183,"user":{"displayName":"Maribel Zarate","userId":"18026252702458459747"}},"outputId":"9e18e0dc-028c-4442-9584-2c668850b728"},"execution_count":64,"outputs":[{"output_type":"execute_result","data":{"text/plain":["8.333333333333334"]},"metadata":{},"execution_count":64}]},{"cell_type":"markdown","source":["Ahora actualiza la función de informes para llamando a la nueva función del promedio:"],"metadata":{"id":"7_4M9H0eWoY9"}},{"cell_type":"code","source":["# Actualiza la función"],"metadata":{"id":"FchdIDElWq6y"},"execution_count":null,"outputs":[]},{"cell_type":"markdown","source":["## SOLUCION"],"metadata":{"id":"K1koSJUpWs2L"}},{"cell_type":"code","source":[""],"metadata":{"id":"vKjim4bVKXsI"},"execution_count":null,"outputs":[]},{"cell_type":"markdown","source":["Ejercicio 3"],"metadata":{"id":"sfHlRxh5KQBd"}},{"cell_type":"code","source":["def factura(monto, iva=16):\n","    return monto + monto*iva/100\n","\n","print(factura(452,10))\n","print(factura(452))"],"metadata":{"id":"NFPdw8GxKTJ6"},"execution_count":null,"outputs":[]},{"cell_type":"markdown","source":["Ejercicio 4"],"metadata":{"id":"-FpkUlSzKWW-"}},{"cell_type":"code","source":["# Función para leer 3 calificaciones  y muestre el promedio\n","\n","def reporte(cal1, cal2, cal3):\n","    promedio = (cal1 + cal2 + cal3) / 3\n","    return f\"\"\"Reporte de calificaciones:\n","    Promedio: {promedio}\n","    calificación 1 : {cal1}\n","    calificación 2: {cal2}\n","    calificación 3: {cal3}\n","    \"\"\""],"metadata":{"id":"6LGs1rjdWvWr"},"execution_count":null,"outputs":[]},{"cell_type":"code","source":["# Llamamos a la función que genera el reporte print(funcion(cal1, cal2, cal3))\n","print(reporte(8, 7, 10))"],"metadata":{"id":"h4z1Toa4Xgqn"},"execution_count":null,"outputs":[]},{"cell_type":"code","source":["# Función promedio \n","def prom(values):\n","    total = sum(values)\n","    numero_de_items = len(values)\n","    return total / numero_de_items"],"metadata":{"id":"9KEOg_xTYFKn"},"execution_count":null,"outputs":[]},{"cell_type":"code","source":["prom([8, 7, 10]) "],"metadata":{"id":"5-SPvHjcYZDB"},"execution_count":null,"outputs":[]},{"cell_type":"code","source":["# Actualiza la función\n","def reporte(cal1, cal2, cal3):\n","    return f\"\"\" Reporte:\n","    Total Average: {prom([cal1, cal2, cal3])}\n","    calificacion 1: {cal1}\n","    calificación 2: {cal2}\n","    calificación 3: {cal3}\n","    \"\"\"\n","\n","print(reporte(8, 7, 10))"],"metadata":{"id":"nuzuxnh6Y-Vz"},"execution_count":null,"outputs":[]}]}
    },
    {
      "cell_type": "markdown",
      "source": [
        "## Ejercicio 4: Trabajar con argumentos en funciones\n",
        "Los argumentos requeridos en las funciones se utilizan cuando las funciones necesitan que esos argumentos funcionen correctamente.\n",
        "\n",
        "Comienza por crear una función que necesite tres lecturas de calificaciones y devuelva un informe:"
      ],
      "metadata": {
        "id": "KKiK1kZzVpm0"
      }
    },
    {
      "cell_type": "code",
      "source": [
        "# Función para leer 3 calificaciones y muestre el promedio"
      ],
      "metadata": {
        "id": "wrLfV98GVyyJ"
      },
      "execution_count": null,
      "outputs": []
    },
    {
      "cell_type": "markdown",
      "source": [
        "Ahora que hemos definido la función de informes, vamos a comprobarlo. Las calificaciones serán 8,7,10"
      ],
      "metadata": {
        "id": "pBtVyatLV3CU"
      }
    },
    {
      "cell_type": "code",
      "source": [
        "# Llamamos a la función que genera el reporte print(funcion(cal1, cal2, cal3))\n"
      ],
      "metadata": {
        "id": "jrnr_SP3WOB1"
      },
      "execution_count": null,
      "outputs": []
    },
    {
      "cell_type": "markdown",
      "source": [
        "En lugar de simplemente crear el informe, la función también está calculando el promedio. Mejora la legibilidad extrayendo el cálculo promedio de la función en una nueva función para que el promedio se pueda hacer de forma independiente:"
      ],
      "metadata": {
        "id": "uvxEfXjBWe0g"
      }
    },
    {
      "cell_type": "code",
      "source": [
        "# Función promedio "
      ],
      "metadata": {
        "id": "paiWvAT6WlcH"
      },
      "execution_count": null,
      "outputs": []
    },
    {
      "cell_type": "markdown",
      "source": [
        "Ahora actualiza la función de informes para llamando a la nueva función del promedio:"
      ],
      "metadata": {
        "id": "7_4M9H0eWoY9"
      }
    },
    {
      "cell_type": "code",
      "source": [
        "# Actualiza la función"
      ],
      "metadata": {
        "id": "FchdIDElWq6y"
      },
      "execution_count": null,
      "outputs": []
    },
    {
      "cell_type": "markdown",
      "source": [
        "## SOLUCION"
      ],
      "metadata": {
        "id": "K1koSJUpWs2L"
      }
    },
    {
      "cell_type": "code",
      "source": [
        ""
      ],
      "metadata": {
        "id": "vKjim4bVKXsI"
      },
      "execution_count": null,
      "outputs": []
    },
    {
      "cell_type": "markdown",
      "source": [
        "Ejercicio 3"
      ],
      "metadata": {
        "id": "sfHlRxh5KQBd"
      }
    },
    {
      "cell_type": "code",
      "source": [
        "def factura(monto, iva=16):\n",
        "    return monto + monto*iva/100\n",
        "\n",
        "print(factura(452,10))\n",
        "print(factura(452))"
      ],
      "metadata": {
        "id": "NFPdw8GxKTJ6"
      },
      "execution_count": null,
      "outputs": []
    },
    {
      "cell_type": "markdown",
      "source": [
        "Ejercicio 4"
      ],
      "metadata": {
        "id": "-FpkUlSzKWW-"
      }
    },
    {
      "cell_type": "code",
      "source": [
        "# Función para leer 3 calificaciones  y muestre el promedio\n",
        "\n",
        "def reporte(cal1, cal2, cal3):\n",
        "    promedio = (cal1 + cal2 + cal3) / 3\n",
        "    return f\"\"\"Reporte de calificaciones:\n",
        "    Promedio: {promedio}\n",
        "    calificación 1 : {cal1}\n",
        "    calificación 2: {cal2}\n",
        "    calificación 3: {cal3}\n",
        "    \"\"\""
      ],
      "metadata": {
        "id": "6LGs1rjdWvWr"
      },
      "execution_count": null,
      "outputs": []
    },
    {
      "cell_type": "code",
      "source": [
        "# Llamamos a la función que genera el reporte print(funcion(cal1, cal2, cal3))\n",
        "print(reporte(8, 7, 10))"
      ],
      "metadata": {
        "id": "h4z1Toa4Xgqn"
      },
      "execution_count": null,
      "outputs": []
    },
    {
      "cell_type": "code",
      "source": [
        "# Función promedio \n",
        "def prom(values):\n",
        "    total = sum(values)\n",
        "    numero_de_items = len(values)\n",
        "    return total / numero_de_items"
      ],
      "metadata": {
        "id": "9KEOg_xTYFKn"
      },
      "execution_count": null,
      "outputs": []
    },
    {
      "cell_type": "code",
      "source": [
        "prom([8, 7, 10]) "
      ],
      "metadata": {
        "id": "5-SPvHjcYZDB"
      },
      "execution_count": null,
      "outputs": []
    },
    {
      "cell_type": "code",
      "source": [
        "# Actualiza la función\n",
        "def reporte(cal1, cal2, cal3):\n",
        "    return f\"\"\" Reporte:\n",
        "    Total Average: {prom([cal1, cal2, cal3])}\n",
        "    calificacion 1: {cal1}\n",
        "    calificación 2: {cal2}\n",
        "    calificación 3: {cal3}\n",
        "    \"\"\"\n",
        "\n",
        "print(reporte(8, 7, 10))"
      ],
      "metadata": {
        "id": "nuzuxnh6Y-Vz"
      },
      "execution_count": null,
      "outputs": []
    }
  ]
}






